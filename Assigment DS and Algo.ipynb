{
 "cells": [
  {
   "cell_type": "markdown",
   "id": "feb7c6ee",
   "metadata": {},
   "source": [
    "# Q.1 Write a program to find all pairs of an integer array whose sum is equal to a given number?"
   ]
  },
  {
   "cell_type": "code",
   "execution_count": 141,
   "id": "5d23d5a4",
   "metadata": {},
   "outputs": [],
   "source": [
    "def print_pairs(arr,n,sum):\n",
    "    for i in range(0,n):\n",
    "        for j in range(i+1,n):\n",
    "            if(arr[i] + arr[j] == sum):\n",
    "                print('(',arr[i],',',arr[j],')')"
   ]
  },
  {
   "cell_type": "code",
   "execution_count": 142,
   "id": "4b1fefc8",
   "metadata": {},
   "outputs": [
    {
     "name": "stdout",
     "output_type": "stream",
     "text": [
      "( 1 , 5 )\n",
      "( 1 , 5 )\n",
      "( 7 , -1 )\n"
     ]
    }
   ],
   "source": [
    "arr = [1,5,7,-1,5]\n",
    "n = len(arr)\n",
    "sum = 6 \n",
    "print_pairs(arr,n,sum)"
   ]
  },
  {
   "cell_type": "code",
   "execution_count": null,
   "id": "cf6e3c68",
   "metadata": {},
   "outputs": [],
   "source": []
  },
  {
   "cell_type": "markdown",
   "id": "db38ad75",
   "metadata": {},
   "source": [
    "# Q.2 Write a program to reverse an array in place? In place means you cannot create a new array. You have to update the original array.\n",
    "\n"
   ]
  },
  {
   "cell_type": "code",
   "execution_count": 143,
   "id": "10ca4af3",
   "metadata": {},
   "outputs": [
    {
     "data": {
      "text/plain": [
       "[7, 6, 5, 4, 3, 2, 1]"
      ]
     },
     "execution_count": 143,
     "metadata": {},
     "output_type": "execute_result"
    }
   ],
   "source": [
    "arr = [1,2,3,4,5,6,7]\n",
    "arr=arr[-1::-1]\n",
    "arr"
   ]
  },
  {
   "cell_type": "code",
   "execution_count": null,
   "id": "8aa6e45c",
   "metadata": {},
   "outputs": [],
   "source": []
  },
  {
   "cell_type": "markdown",
   "id": "09de1a6c",
   "metadata": {},
   "source": [
    "# Q.3 Write a program to check if two strings are a rotation of each other?"
   ]
  },
  {
   "cell_type": "code",
   "execution_count": 144,
   "id": "8b28cddd",
   "metadata": {},
   "outputs": [
    {
     "name": "stdout",
     "output_type": "stream",
     "text": [
      "abcd\n",
      "adf\n",
      "Strings are not rotations of each other\n"
     ]
    }
   ],
   "source": [
    "def areRotations(str1,str2):\n",
    "    size1 = len(str1)\n",
    "    size2 = len(str2)\n",
    "    temp=''\n",
    "    \n",
    "    if size1 != size2:\n",
    "        return 0\n",
    "    temp=str1+str2\n",
    "    \n",
    "    if(temp.count(str2)>0):\n",
    "        return 1\n",
    "    else:\n",
    "        return 0\n",
    "\n",
    "str1=input()\n",
    "str2=input()\n",
    "\n",
    "if areRotations(str1,str2):\n",
    "    print('Strings are rotations of each other')\n",
    "else:\n",
    "    print(\"Strings are not rotations of each other\")"
   ]
  },
  {
   "cell_type": "code",
   "execution_count": null,
   "id": "6b082ef7",
   "metadata": {},
   "outputs": [],
   "source": []
  },
  {
   "cell_type": "markdown",
   "id": "0a0ce2bb",
   "metadata": {},
   "source": [
    "# Q.4 Write a program to print the first non-repeated character from a string?"
   ]
  },
  {
   "cell_type": "code",
   "execution_count": 145,
   "id": "d5b03f8f",
   "metadata": {},
   "outputs": [
    {
     "name": "stdout",
     "output_type": "stream",
     "text": [
      "u\n"
     ]
    }
   ],
   "source": [
    "st= \"tutorialspointfordeveloper\"\n",
    "s=\"\"\n",
    "for i in st:\n",
    "    if st.count(i)==1:\n",
    "        s=s+i\n",
    "        break\n",
    "    else:\n",
    "        pass\n",
    "print(s)"
   ]
  },
  {
   "cell_type": "code",
   "execution_count": null,
   "id": "b5eaa70c",
   "metadata": {},
   "outputs": [],
   "source": []
  },
  {
   "cell_type": "markdown",
   "id": "5463e9cb",
   "metadata": {},
   "source": [
    "# Q.5 Read about the Tower of Hanoi algorithm. Write a program to implement it."
   ]
  },
  {
   "cell_type": "code",
   "execution_count": 146,
   "id": "20dbef47",
   "metadata": {},
   "outputs": [],
   "source": [
    "def TowerOfHanoi(n,source,destination,auxil):\n",
    "    if n==1:\n",
    "        print('Move disk 1 from source',source,'to destination',destination)\n",
    "        return \n",
    "    TowerOfHanoi(n-1,source,auxil,destination)\n",
    "    print('Move disk',n,'from source',source,'to destination',destination)\n",
    "    TowerOfHanoi(n-1,auxil,destination,source)"
   ]
  },
  {
   "cell_type": "code",
   "execution_count": 147,
   "id": "2143a4e9",
   "metadata": {},
   "outputs": [
    {
     "name": "stdout",
     "output_type": "stream",
     "text": [
      "Move disk 1 from source A to destination B\n",
      "Move disk 2 from source A to destination C\n",
      "Move disk 1 from source B to destination C\n",
      "Move disk 3 from source A to destination B\n",
      "Move disk 1 from source C to destination A\n",
      "Move disk 2 from source C to destination B\n",
      "Move disk 1 from source A to destination B\n",
      "Move disk 4 from source A to destination C\n",
      "Move disk 1 from source B to destination C\n",
      "Move disk 2 from source B to destination A\n",
      "Move disk 1 from source C to destination A\n",
      "Move disk 3 from source B to destination C\n",
      "Move disk 1 from source A to destination B\n",
      "Move disk 2 from source A to destination C\n",
      "Move disk 1 from source B to destination C\n",
      "Move disk 5 from source A to destination B\n",
      "Move disk 1 from source C to destination A\n",
      "Move disk 2 from source C to destination B\n",
      "Move disk 1 from source A to destination B\n",
      "Move disk 3 from source C to destination A\n",
      "Move disk 1 from source B to destination C\n",
      "Move disk 2 from source B to destination A\n",
      "Move disk 1 from source C to destination A\n",
      "Move disk 4 from source C to destination B\n",
      "Move disk 1 from source A to destination B\n",
      "Move disk 2 from source A to destination C\n",
      "Move disk 1 from source B to destination C\n",
      "Move disk 3 from source A to destination B\n",
      "Move disk 1 from source C to destination A\n",
      "Move disk 2 from source C to destination B\n",
      "Move disk 1 from source A to destination B\n"
     ]
    }
   ],
   "source": [
    "n=5\n",
    "\n",
    "TowerOfHanoi(n,'A','B','C')"
   ]
  },
  {
   "cell_type": "code",
   "execution_count": null,
   "id": "647ea69b",
   "metadata": {},
   "outputs": [],
   "source": []
  },
  {
   "cell_type": "markdown",
   "id": "b1f8ced2",
   "metadata": {},
   "source": [
    "# Q.6 Read about infix, prefix and postfix expressions. Write a program to convert postfix to prefix expression."
   ]
  },
  {
   "cell_type": "code",
   "execution_count": 148,
   "id": "8d1a25a3",
   "metadata": {},
   "outputs": [],
   "source": [
    "def isOperator(x):\n",
    "    \n",
    "    if x=='+':\n",
    "        return True\n",
    "    \n",
    "    if x=='-':\n",
    "        return True\n",
    "    if x=='/':\n",
    "        return True\n",
    "    if x=='*':\n",
    "        return True\n",
    "    return False\n",
    "\n",
    "\n",
    "def postToPre(post_exp):\n",
    "    s=[]\n",
    "    length = len(post_exp)\n",
    "    \n",
    "    for i in range(length):\n",
    "        if (isOperator(post_exp[i])):\n",
    "            \n",
    "            op1 = s[-1]\n",
    "            s.pop()\n",
    "            op2=s[-1]\n",
    "            s.pop\n",
    "            \n",
    "            temp = post_exp[i]+op2+op1\n",
    "            \n",
    "            s.append(temp)\n",
    "            \n",
    "        else:\n",
    "            s.append(post_exp[i])\n",
    "            \n",
    "    ans = ''\n",
    "    for i in s:\n",
    "        ans+=i\n",
    "    return ans\n"
   ]
  },
  {
   "cell_type": "code",
   "execution_count": 149,
   "id": "6f6694c9",
   "metadata": {},
   "outputs": [
    {
     "name": "stdout",
     "output_type": "stream",
     "text": [
      "AB+c\n"
     ]
    },
    {
     "data": {
      "text/plain": [
       "'A+ABc'"
      ]
     },
     "execution_count": 149,
     "metadata": {},
     "output_type": "execute_result"
    }
   ],
   "source": [
    "post_exp=input()\n",
    "postToPre(post_exp)"
   ]
  },
  {
   "cell_type": "code",
   "execution_count": null,
   "id": "1f426bc5",
   "metadata": {},
   "outputs": [],
   "source": []
  },
  {
   "cell_type": "markdown",
   "id": "c0691412",
   "metadata": {},
   "source": [
    "# Q7.Write a program to convert prefix expression to infix expression."
   ]
  },
  {
   "cell_type": "code",
   "execution_count": 150,
   "id": "6775b569",
   "metadata": {},
   "outputs": [
    {
     "name": "stdout",
     "output_type": "stream",
     "text": [
      "L\n"
     ]
    }
   ],
   "source": [
    " def prefixToInfix(prefix):\n",
    "    stack = []\n",
    "    \n",
    "    i = len(prefix) - 1\n",
    "    while i >= 0:\n",
    "        if not isOperator(prefix[i]):\n",
    "            stack.append(prefix[i])\n",
    "            i -= 1\n",
    "       \n",
    "        else:\n",
    "            str = \"(\" + stack.pop() + prefix[i] + stack.pop() + \")\"\n",
    "            stack.append(str)\n",
    "            i -= 1\n",
    "            \n",
    "        return stack.pop()\n",
    "    \n",
    "\n",
    "def isOperator(c):\n",
    "    if c == \"*\" or c == \"+\" or c == \"-\" or c == \"/\" or c == \"^\" or c == \"(\" or c == \")\":\n",
    "        return True\n",
    "    else:\n",
    "        return False       \n",
    "    \n",
    "str1 = \"*-A/BC-/AKL\"\n",
    "\n",
    "print(prefixToInfix(str1))  "
   ]
  },
  {
   "cell_type": "code",
   "execution_count": null,
   "id": "ab8ad0de",
   "metadata": {},
   "outputs": [],
   "source": []
  },
  {
   "cell_type": "markdown",
   "id": "1b35e969",
   "metadata": {},
   "source": [
    "# Q8.Write program to check if all the brackets are closed in a given code snippet."
   ]
  },
  {
   "cell_type": "code",
   "execution_count": 151,
   "id": "b5cfa020",
   "metadata": {},
   "outputs": [],
   "source": [
    "class node:\n",
    "    def __init__(self,data):\n",
    "        self.data=data\n",
    "        self.next=None\n",
    "\n",
    "class Stack:\n",
    "    def __init__(self):\n",
    "        self.top=None\n",
    "        \n",
    "    def push(self,node_value):\n",
    "        new_node=node(node_value)\n",
    "        new_node.next = self.top\n",
    "        self.top=new_node\n",
    "        return new_node\n",
    "    \n",
    "    def is_empty(self):\n",
    "        return self.top is None\n",
    "    \n",
    "    def pop(self):\n",
    "        if self.is_empty():\n",
    "            print(\"['Error']:stack is empty\")\n",
    "            return\n",
    "        temp_node=self.top\n",
    "        self.top=self.top.next\n",
    "        return temp_node.data\n",
    "    \n",
    "    def peek(self):\n",
    "        return self.top.data\n",
    "    \n",
    "    def delete(self):\n",
    "        self.top=None\n",
    "    \n",
    "    def traverse(self):\n",
    "        curr_node = self.top\n",
    "        while curr_node is not None:\n",
    "            print('{}'.format(curr_node.data),end='->')\n",
    "            curr_node=curr_node.next"
   ]
  },
  {
   "cell_type": "code",
   "execution_count": 152,
   "id": "8b28cbd6",
   "metadata": {},
   "outputs": [
    {
     "name": "stdout",
     "output_type": "stream",
     "text": [
      "All brackets are not closed\n"
     ]
    },
    {
     "name": "stderr",
     "output_type": "stream",
     "text": [
      "<>:12: SyntaxWarning: \"is\" with a literal. Did you mean \"==\"?\n",
      "<>:12: SyntaxWarning: \"is not\" with a literal. Did you mean \"!=\"?\n",
      "<>:15: SyntaxWarning: \"is\" with a literal. Did you mean \"==\"?\n",
      "<>:15: SyntaxWarning: \"is not\" with a literal. Did you mean \"!=\"?\n",
      "<>:18: SyntaxWarning: \"is\" with a literal. Did you mean \"==\"?\n",
      "<>:18: SyntaxWarning: \"is not\" with a literal. Did you mean \"!=\"?\n",
      "<>:12: SyntaxWarning: \"is\" with a literal. Did you mean \"==\"?\n",
      "<>:12: SyntaxWarning: \"is not\" with a literal. Did you mean \"!=\"?\n",
      "<>:15: SyntaxWarning: \"is\" with a literal. Did you mean \"==\"?\n",
      "<>:15: SyntaxWarning: \"is not\" with a literal. Did you mean \"!=\"?\n",
      "<>:18: SyntaxWarning: \"is\" with a literal. Did you mean \"==\"?\n",
      "<>:18: SyntaxWarning: \"is not\" with a literal. Did you mean \"!=\"?\n",
      "<ipython-input-152-b9daab850255>:12: SyntaxWarning: \"is\" with a literal. Did you mean \"==\"?\n",
      "  if c_from_s is '[' and c is not ']':\n",
      "<ipython-input-152-b9daab850255>:12: SyntaxWarning: \"is not\" with a literal. Did you mean \"!=\"?\n",
      "  if c_from_s is '[' and c is not ']':\n",
      "<ipython-input-152-b9daab850255>:15: SyntaxWarning: \"is\" with a literal. Did you mean \"==\"?\n",
      "  if c_from_s is '{' and c is not '}':\n",
      "<ipython-input-152-b9daab850255>:15: SyntaxWarning: \"is not\" with a literal. Did you mean \"!=\"?\n",
      "  if c_from_s is '{' and c is not '}':\n",
      "<ipython-input-152-b9daab850255>:18: SyntaxWarning: \"is\" with a literal. Did you mean \"==\"?\n",
      "  if c_from_s is '(' and c is not ')':\n",
      "<ipython-input-152-b9daab850255>:18: SyntaxWarning: \"is not\" with a literal. Did you mean \"!=\"?\n",
      "  if c_from_s is '(' and c is not ')':\n"
     ]
    }
   ],
   "source": [
    "def check_brackets(str):\n",
    "    S = Stack()\n",
    "    for c in str:\n",
    "        if c in [\"[\",'{','(']:\n",
    "            S.push(c)\n",
    "        else: # ],},)\n",
    "            if S.is_empty():\n",
    "                print('All brackets are not closed')\n",
    "                return\n",
    "            c_from_s = S.pop()\n",
    "            \n",
    "            if c_from_s is '[' and c is not ']':\n",
    "                print(\"All brackets are not closed\")\n",
    "                return\n",
    "            if c_from_s is '{' and c is not '}':\n",
    "                print('All brackets are not closed')\n",
    "                return\n",
    "            if c_from_s is '(' and c is not ')':\n",
    "                print('All brackets are not closed')\n",
    "                return\n",
    "    if S.is_empty():\n",
    "        print(\"All brackets are closed\")\n",
    "    else:\n",
    "        print(\"All brackets are not closed\")\n",
    "            \n",
    "            \n",
    "check_brackets('[)()]')"
   ]
  },
  {
   "cell_type": "code",
   "execution_count": null,
   "id": "b3a1770a",
   "metadata": {},
   "outputs": [],
   "source": []
  },
  {
   "cell_type": "markdown",
   "id": "3977cc4a",
   "metadata": {},
   "source": [
    "# Q9. Write a program to reverse a stack."
   ]
  },
  {
   "cell_type": "code",
   "execution_count": 160,
   "id": "bfb56694",
   "metadata": {},
   "outputs": [],
   "source": [
    "class node:\n",
    "    def __init__(self,data):\n",
    "        self.data=data\n",
    "        self.next=None\n",
    "\n",
    "class Stack:\n",
    "    def __init__(self):\n",
    "        self.top=None\n",
    "        \n",
    "    def push(self,node_value):\n",
    "        new_node=node(node_value)\n",
    "        new_node.next = self.top\n",
    "        self.top=new_node\n",
    "        return new_node\n",
    "    \n",
    "    def is_empty(self):\n",
    "        return self.top is None\n",
    "    \n",
    "    def pop(self):\n",
    "        if self.is_empty():\n",
    "            print(\"['Error']:stack is empty\")\n",
    "            return\n",
    "        temp_node=self.top\n",
    "        self.top=self.top.next\n",
    "        return temp_node.data\n",
    "    \n",
    "    def peek(self):\n",
    "        return self.top.data\n",
    "    \n",
    "    def delete(self):\n",
    "        self.top=None\n",
    "    \n",
    "    def traverse(self):\n",
    "        curr_node = self.top\n",
    "        while curr_node is not None:\n",
    "            print('{}'.format(curr_node.data),end='->')\n",
    "            curr_node=curr_node.next\n",
    "    def reversed(self):\n",
    "        l=[]\n",
    "        curr_node = self.top\n",
    "        while not self.is_empty():\n",
    "            if curr_node is None:\n",
    "                break\n",
    "            else:\n",
    "                l.append(curr_node.data)\n",
    "                curr_node=curr_node.next\n",
    "        print(l[::-1])\n",
    "        \n",
    "    def getmin(self):\n",
    "        minn = float('inf')\n",
    "        curr_node = self.top\n",
    "        while not self.is_empty():\n",
    "            if curr_node is None:\n",
    "                break\n",
    "            elif(curr_node.data<minn):\n",
    "                minn=curr_node.data\n",
    "            curr_node=curr_node.next\n",
    "        return minn   \n",
    "        "
   ]
  },
  {
   "cell_type": "code",
   "execution_count": 161,
   "id": "8cdae4e2",
   "metadata": {},
   "outputs": [],
   "source": [
    "ss=Stack()"
   ]
  },
  {
   "cell_type": "code",
   "execution_count": 162,
   "id": "60bbd1d8",
   "metadata": {},
   "outputs": [
    {
     "name": "stdout",
     "output_type": "stream",
     "text": [
      "40->30->20->10->"
     ]
    }
   ],
   "source": [
    "for i in range(10,50,10):\n",
    "    ss.push(i)\n",
    "ss.traverse()"
   ]
  },
  {
   "cell_type": "code",
   "execution_count": 163,
   "id": "b8c5486f",
   "metadata": {},
   "outputs": [
    {
     "name": "stdout",
     "output_type": "stream",
     "text": [
      "[10, 20, 30, 40]\n"
     ]
    }
   ],
   "source": [
    "ss.reversed()"
   ]
  },
  {
   "cell_type": "code",
   "execution_count": 164,
   "id": "d65cf596",
   "metadata": {},
   "outputs": [
    {
     "data": {
      "text/plain": [
       "10"
      ]
     },
     "execution_count": 164,
     "metadata": {},
     "output_type": "execute_result"
    }
   ],
   "source": [
    "ss.getmin()"
   ]
  },
  {
   "cell_type": "code",
   "execution_count": null,
   "id": "b1fbc219",
   "metadata": {},
   "outputs": [],
   "source": []
  },
  {
   "cell_type": "markdown",
   "id": "111feff3",
   "metadata": {},
   "source": [
    "# Q10. Write a program to find the smallest number in using a stack."
   ]
  },
  {
   "cell_type": "code",
   "execution_count": 165,
   "id": "859edd05",
   "metadata": {},
   "outputs": [],
   "source": [
    "def getmin(self):\n",
    "        minn = float('inf')\n",
    "        curr_node = self.top\n",
    "        while not self.is_empty():\n",
    "            if curr_node is None:\n",
    "                break\n",
    "            elif(curr_node.data<minn):\n",
    "                minn=curr_node.data\n",
    "            curr_node=curr_node.next\n",
    "        return minn  "
   ]
  },
  {
   "cell_type": "code",
   "execution_count": 159,
   "id": "2e06462a",
   "metadata": {},
   "outputs": [
    {
     "data": {
      "text/plain": [
       "10"
      ]
     },
     "execution_count": 159,
     "metadata": {},
     "output_type": "execute_result"
    }
   ],
   "source": [
    "ss.getmin()"
   ]
  },
  {
   "cell_type": "code",
   "execution_count": null,
   "id": "c43c9911",
   "metadata": {},
   "outputs": [],
   "source": []
  }
 ],
 "metadata": {
  "kernelspec": {
   "display_name": "Python 3",
   "language": "python",
   "name": "python3"
  },
  "language_info": {
   "codemirror_mode": {
    "name": "ipython",
    "version": 3
   },
   "file_extension": ".py",
   "mimetype": "text/x-python",
   "name": "python",
   "nbconvert_exporter": "python",
   "pygments_lexer": "ipython3",
   "version": "3.9.4"
  }
 },
 "nbformat": 4,
 "nbformat_minor": 5
}
